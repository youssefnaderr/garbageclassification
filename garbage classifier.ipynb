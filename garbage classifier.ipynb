{
 "cells": [
  {
   "cell_type": "code",
   "execution_count": 1,
   "id": "386c8f56",
   "metadata": {
    "scrolled": true
   },
   "outputs": [],
   "source": [
    "import os\n",
    "import pandas as pd\n",
    "import tensorflow as tf\n",
    "import time\n",
    "from PIL import Image \n",
    "import numpy as np\n",
    "from tensorflow.keras.preprocessing import image\n",
    "from tensorflow.keras.preprocessing.image import ImageDataGenerator\n",
    "from tensorflow.keras import layers, models\n",
    "from tensorflow.keras.applications import MobileNet\n",
    "from tensorflow.keras.optimizers import Adam"
   ]
  },
  {
   "cell_type": "code",
   "execution_count": 2,
   "id": "89f27195",
   "metadata": {},
   "outputs": [],
   "source": [
    "def add_images_to_dataframe(dataframe, folder_path, label):\n",
    "    # Loop through the files in the folder\n",
    "    for filename in os.listdir(folder_path):\n",
    "        if filename.endswith(('.jpg', '.jpeg', '.png')):  # Add more image extensions if needed\n",
    "            image_path = os.path.join(folder_path, filename)\n",
    "\n",
    "            # Append the image path and label to a temporary list\n",
    "            temp_list = [image_path, label]\n",
    "\n",
    "            # Add the temporary list to the DataFrame\n",
    "            dataframe.loc[len(dataframe)] = temp_list\n",
    "\n",
    "    return dataframe"
   ]
  },
  {
   "cell_type": "code",
   "execution_count": 3,
   "id": "70778b1c",
   "metadata": {},
   "outputs": [],
   "source": [
    "# Create an empty DataFrame\n",
    "df = pd.DataFrame(columns=['Image_Path', 'Label'])\n"
   ]
  },
  {
   "cell_type": "code",
   "execution_count": 4,
   "id": "96c22ccc",
   "metadata": {},
   "outputs": [],
   "source": [
    "df = add_images_to_dataframe(df,'C:/Users/youss/OneDrive - aucegypt.edu/Desktop/garbage classifier/dataset garbage/cans', 'metal')\n",
    "#df = add_images_to_dataframe(df, 'C:/Users/youss/OneDrive - aucegypt.edu/Desktop/garbage classifier/dataset garbage/Plastic Bag Images', 'plastic')\n",
    "df = add_images_to_dataframe(df, 'C:/Users/youss/OneDrive - aucegypt.edu/Desktop/garbage classifier/dataset garbage/m5','metal')\n",
    "df = add_images_to_dataframe(df,'C:/Users/youss/OneDrive - aucegypt.edu/Desktop/garbage classifier/dataset garbage/m16', 'metal')\n",
    "df = add_images_to_dataframe(df,'C:/Users/youss/OneDrive - aucegypt.edu/Desktop/garbage classifier/dataset garbage/mital', 'metal')\n",
    "df = add_images_to_dataframe(df, 'C:/Users/youss/OneDrive - aucegypt.edu/Desktop/garbage classifier/dataset garbage/p0', 'plastic')\n",
    "df = add_images_to_dataframe(df,'C:/Users/youss/OneDrive - aucegypt.edu/Desktop/garbage classifier/dataset garbage/p1', 'plastic')\n",
    "df = add_images_to_dataframe(df,'C:/Users/youss/OneDrive - aucegypt.edu/Desktop/garbage classifier/dataset garbage/p3', 'plastic')\n",
    "df = add_images_to_dataframe(df,'C:/Users/youss/OneDrive - aucegypt.edu/Desktop/garbage classifier/dataset garbage/plastique', 'plastic')"
   ]
  },
  {
   "cell_type": "code",
   "execution_count": 5,
   "id": "9292ca1d",
   "metadata": {},
   "outputs": [
    {
     "data": {
      "text/html": [
       "<div>\n",
       "<style scoped>\n",
       "    .dataframe tbody tr th:only-of-type {\n",
       "        vertical-align: middle;\n",
       "    }\n",
       "\n",
       "    .dataframe tbody tr th {\n",
       "        vertical-align: top;\n",
       "    }\n",
       "\n",
       "    .dataframe thead th {\n",
       "        text-align: right;\n",
       "    }\n",
       "</style>\n",
       "<table border=\"1\" class=\"dataframe\">\n",
       "  <thead>\n",
       "    <tr style=\"text-align: right;\">\n",
       "      <th></th>\n",
       "      <th>Image_Path</th>\n",
       "      <th>Label</th>\n",
       "    </tr>\n",
       "  </thead>\n",
       "  <tbody>\n",
       "    <tr>\n",
       "      <th>0</th>\n",
       "      <td>C:/Users/youss/OneDrive - aucegypt.edu/Desktop...</td>\n",
       "      <td>metal</td>\n",
       "    </tr>\n",
       "    <tr>\n",
       "      <th>1</th>\n",
       "      <td>C:/Users/youss/OneDrive - aucegypt.edu/Desktop...</td>\n",
       "      <td>metal</td>\n",
       "    </tr>\n",
       "    <tr>\n",
       "      <th>2</th>\n",
       "      <td>C:/Users/youss/OneDrive - aucegypt.edu/Desktop...</td>\n",
       "      <td>metal</td>\n",
       "    </tr>\n",
       "    <tr>\n",
       "      <th>3</th>\n",
       "      <td>C:/Users/youss/OneDrive - aucegypt.edu/Desktop...</td>\n",
       "      <td>metal</td>\n",
       "    </tr>\n",
       "    <tr>\n",
       "      <th>4</th>\n",
       "      <td>C:/Users/youss/OneDrive - aucegypt.edu/Desktop...</td>\n",
       "      <td>metal</td>\n",
       "    </tr>\n",
       "    <tr>\n",
       "      <th>...</th>\n",
       "      <td>...</td>\n",
       "      <td>...</td>\n",
       "    </tr>\n",
       "    <tr>\n",
       "      <th>9208</th>\n",
       "      <td>C:/Users/youss/OneDrive - aucegypt.edu/Desktop...</td>\n",
       "      <td>plastic</td>\n",
       "    </tr>\n",
       "    <tr>\n",
       "      <th>9209</th>\n",
       "      <td>C:/Users/youss/OneDrive - aucegypt.edu/Desktop...</td>\n",
       "      <td>plastic</td>\n",
       "    </tr>\n",
       "    <tr>\n",
       "      <th>9210</th>\n",
       "      <td>C:/Users/youss/OneDrive - aucegypt.edu/Desktop...</td>\n",
       "      <td>plastic</td>\n",
       "    </tr>\n",
       "    <tr>\n",
       "      <th>9211</th>\n",
       "      <td>C:/Users/youss/OneDrive - aucegypt.edu/Desktop...</td>\n",
       "      <td>plastic</td>\n",
       "    </tr>\n",
       "    <tr>\n",
       "      <th>9212</th>\n",
       "      <td>C:/Users/youss/OneDrive - aucegypt.edu/Desktop...</td>\n",
       "      <td>plastic</td>\n",
       "    </tr>\n",
       "  </tbody>\n",
       "</table>\n",
       "<p>9213 rows × 2 columns</p>\n",
       "</div>"
      ],
      "text/plain": [
       "                                             Image_Path    Label\n",
       "0     C:/Users/youss/OneDrive - aucegypt.edu/Desktop...    metal\n",
       "1     C:/Users/youss/OneDrive - aucegypt.edu/Desktop...    metal\n",
       "2     C:/Users/youss/OneDrive - aucegypt.edu/Desktop...    metal\n",
       "3     C:/Users/youss/OneDrive - aucegypt.edu/Desktop...    metal\n",
       "4     C:/Users/youss/OneDrive - aucegypt.edu/Desktop...    metal\n",
       "...                                                 ...      ...\n",
       "9208  C:/Users/youss/OneDrive - aucegypt.edu/Desktop...  plastic\n",
       "9209  C:/Users/youss/OneDrive - aucegypt.edu/Desktop...  plastic\n",
       "9210  C:/Users/youss/OneDrive - aucegypt.edu/Desktop...  plastic\n",
       "9211  C:/Users/youss/OneDrive - aucegypt.edu/Desktop...  plastic\n",
       "9212  C:/Users/youss/OneDrive - aucegypt.edu/Desktop...  plastic\n",
       "\n",
       "[9213 rows x 2 columns]"
      ]
     },
     "execution_count": 5,
     "metadata": {},
     "output_type": "execute_result"
    }
   ],
   "source": [
    "df\n"
   ]
  },
  {
   "cell_type": "code",
   "execution_count": 6,
   "id": "eafe600d",
   "metadata": {},
   "outputs": [
    {
     "name": "stdout",
     "output_type": "stream",
     "text": [
      "Label\n",
      "plastic    5307\n",
      "metal      3906\n",
      "Name: count, dtype: int64\n"
     ]
    }
   ],
   "source": [
    "# Assuming your DataFrame is named 'df'\n",
    "label_counts = df['Label'].value_counts()\n",
    "\n",
    "# Display the counts\n",
    "print(label_counts)\n"
   ]
  },
  {
   "cell_type": "code",
   "execution_count": 7,
   "id": "15414f4b",
   "metadata": {},
   "outputs": [],
   "source": [
    "def load_data(data):\n",
    "    images = []\n",
    "    labels = []\n",
    "\n",
    "    for Image_Path, Label in data.itertuples(index=False):\n",
    "        img = image.load_img(Image_Path, target_size=(224, 224))\n",
    "        img_array = image.img_to_array(img)\n",
    "        images.append(img_array)\n",
    "        labels.append(Label)\n",
    "\n",
    "    return images, labels"
   ]
  },
  {
   "cell_type": "code",
   "execution_count": 8,
   "id": "64a9a34b",
   "metadata": {},
   "outputs": [
    {
     "name": "stderr",
     "output_type": "stream",
     "text": [
      "C:\\Users\\youss\\AppData\\Local\\Programs\\Python\\Python311\\Lib\\site-packages\\PIL\\Image.py:992: UserWarning: Palette images with Transparency expressed in bytes should be converted to RGBA images\n",
      "  warnings.warn(\n"
     ]
    }
   ],
   "source": [
    "images, labels = load_data(df)"
   ]
  },
  {
   "cell_type": "code",
   "execution_count": 9,
   "id": "6a918c15",
   "metadata": {},
   "outputs": [],
   "source": [
    "data = pd.DataFrame({'Image_Array': images, 'Label': labels})"
   ]
  },
  {
   "cell_type": "code",
   "execution_count": 10,
   "id": "4fd8e8e8",
   "metadata": {},
   "outputs": [
    {
     "data": {
      "text/html": [
       "<div>\n",
       "<style scoped>\n",
       "    .dataframe tbody tr th:only-of-type {\n",
       "        vertical-align: middle;\n",
       "    }\n",
       "\n",
       "    .dataframe tbody tr th {\n",
       "        vertical-align: top;\n",
       "    }\n",
       "\n",
       "    .dataframe thead th {\n",
       "        text-align: right;\n",
       "    }\n",
       "</style>\n",
       "<table border=\"1\" class=\"dataframe\">\n",
       "  <thead>\n",
       "    <tr style=\"text-align: right;\">\n",
       "      <th></th>\n",
       "      <th>Image_Array</th>\n",
       "      <th>Label</th>\n",
       "    </tr>\n",
       "  </thead>\n",
       "  <tbody>\n",
       "    <tr>\n",
       "      <th>0</th>\n",
       "      <td>[[[3.0, 10.0, 16.0], [12.0, 19.0, 25.0], [12.0...</td>\n",
       "      <td>metal</td>\n",
       "    </tr>\n",
       "    <tr>\n",
       "      <th>1</th>\n",
       "      <td>[[[118.0, 119.0, 137.0], [123.0, 124.0, 142.0]...</td>\n",
       "      <td>metal</td>\n",
       "    </tr>\n",
       "    <tr>\n",
       "      <th>2</th>\n",
       "      <td>[[[103.0, 110.0, 92.0], [104.0, 112.0, 91.0], ...</td>\n",
       "      <td>metal</td>\n",
       "    </tr>\n",
       "    <tr>\n",
       "      <th>3</th>\n",
       "      <td>[[[42.0, 47.0, 50.0], [43.0, 49.0, 49.0], [45....</td>\n",
       "      <td>metal</td>\n",
       "    </tr>\n",
       "    <tr>\n",
       "      <th>4</th>\n",
       "      <td>[[[21.0, 23.0, 18.0], [19.0, 21.0, 16.0], [20....</td>\n",
       "      <td>metal</td>\n",
       "    </tr>\n",
       "    <tr>\n",
       "      <th>...</th>\n",
       "      <td>...</td>\n",
       "      <td>...</td>\n",
       "    </tr>\n",
       "    <tr>\n",
       "      <th>9208</th>\n",
       "      <td>[[[82.0, 69.0, 61.0], [85.0, 76.0, 67.0], [62....</td>\n",
       "      <td>plastic</td>\n",
       "    </tr>\n",
       "    <tr>\n",
       "      <th>9209</th>\n",
       "      <td>[[[70.0, 73.0, 66.0], [74.0, 77.0, 70.0], [76....</td>\n",
       "      <td>plastic</td>\n",
       "    </tr>\n",
       "    <tr>\n",
       "      <th>9210</th>\n",
       "      <td>[[[8.0, 8.0, 10.0], [9.0, 9.0, 11.0], [12.0, 1...</td>\n",
       "      <td>plastic</td>\n",
       "    </tr>\n",
       "    <tr>\n",
       "      <th>9211</th>\n",
       "      <td>[[[16.0, 13.0, 8.0], [16.0, 13.0, 8.0], [18.0,...</td>\n",
       "      <td>plastic</td>\n",
       "    </tr>\n",
       "    <tr>\n",
       "      <th>9212</th>\n",
       "      <td>[[[40.0, 18.0, 21.0], [50.0, 28.0, 31.0], [50....</td>\n",
       "      <td>plastic</td>\n",
       "    </tr>\n",
       "  </tbody>\n",
       "</table>\n",
       "<p>9213 rows × 2 columns</p>\n",
       "</div>"
      ],
      "text/plain": [
       "                                            Image_Array    Label\n",
       "0     [[[3.0, 10.0, 16.0], [12.0, 19.0, 25.0], [12.0...    metal\n",
       "1     [[[118.0, 119.0, 137.0], [123.0, 124.0, 142.0]...    metal\n",
       "2     [[[103.0, 110.0, 92.0], [104.0, 112.0, 91.0], ...    metal\n",
       "3     [[[42.0, 47.0, 50.0], [43.0, 49.0, 49.0], [45....    metal\n",
       "4     [[[21.0, 23.0, 18.0], [19.0, 21.0, 16.0], [20....    metal\n",
       "...                                                 ...      ...\n",
       "9208  [[[82.0, 69.0, 61.0], [85.0, 76.0, 67.0], [62....  plastic\n",
       "9209  [[[70.0, 73.0, 66.0], [74.0, 77.0, 70.0], [76....  plastic\n",
       "9210  [[[8.0, 8.0, 10.0], [9.0, 9.0, 11.0], [12.0, 1...  plastic\n",
       "9211  [[[16.0, 13.0, 8.0], [16.0, 13.0, 8.0], [18.0,...  plastic\n",
       "9212  [[[40.0, 18.0, 21.0], [50.0, 28.0, 31.0], [50....  plastic\n",
       "\n",
       "[9213 rows x 2 columns]"
      ]
     },
     "execution_count": 10,
     "metadata": {},
     "output_type": "execute_result"
    }
   ],
   "source": [
    "data\n"
   ]
  },
  {
   "cell_type": "code",
   "execution_count": 11,
   "id": "cdc65f5f",
   "metadata": {},
   "outputs": [],
   "source": [
    "# Separate metal pictures\n",
    "metal_data = data[data['Label'] == 'metal']\n",
    "\n",
    "# Separate plastic pictures\n",
    "plastic_data = data[data['Label'] == 'plastic']"
   ]
  },
  {
   "cell_type": "code",
   "execution_count": 12,
   "id": "75e85c7e",
   "metadata": {},
   "outputs": [],
   "source": [
    "\n",
    "datagen_metal = ImageDataGenerator(\n",
    "    rotation_range=20,\n",
    "    width_shift_range=0.2,\n",
    "    height_shift_range=0.2,\n",
    "    shear_range=0.2,\n",
    "    zoom_range=0.2,\n",
    "    horizontal_flip=True,\n",
    "    fill_mode='nearest'\n",
    ")\n",
    "datagen2 =  ImageDataGenerator(\n",
    "    rotation_range=30,\n",
    "    width_shift_range=0.1,\n",
    "    height_shift_range=0.1,\n",
    "    shear_range=0.1,\n",
    "    zoom_range=0.1,\n",
    "    horizontal_flip=True,\n",
    "    fill_mode='nearest'\n",
    ")\n",
    "\n",
    "datagen3 = ImageDataGenerator(\n",
    "    rotation_range=15,\n",
    "    width_shift_range=0.15,\n",
    "    height_shift_range=0.15,\n",
    "    shear_range=0.15,\n",
    "    zoom_range=0.15,\n",
    "    horizontal_flip=True,\n",
    "    fill_mode='nearest'\n",
    ")"
   ]
  },
  {
   "cell_type": "markdown",
   "id": "626ff7f1",
   "metadata": {},
   "source": [
    "metal_images = np.array(metal_data['Image_Array'].tolist())\n",
    "metal_images.shape"
   ]
  },
  {
   "cell_type": "code",
   "execution_count": 13,
   "id": "250eefea",
   "metadata": {},
   "outputs": [
    {
     "data": {
      "text/plain": [
       "(3906, 224, 224, 3)"
      ]
     },
     "execution_count": 13,
     "metadata": {},
     "output_type": "execute_result"
    }
   ],
   "source": [
    "metal_images = np.array(metal_data['Image_Array'].tolist())\n",
    "metal_images.shape"
   ]
  },
  {
   "cell_type": "code",
   "execution_count": 14,
   "id": "ff40d462",
   "metadata": {},
   "outputs": [],
   "source": [
    "augmented_metal_data1 = np.concatenate([datagen_metal.flow(metal_images,batch_size=1000, shuffle=False).next() for _ in range(1)])"
   ]
  },
  {
   "cell_type": "code",
   "execution_count": 15,
   "id": "d9277bff",
   "metadata": {},
   "outputs": [],
   "source": [
    "augmented_metal_data2 = np.concatenate([datagen2.flow(metal_images,batch_size=1000, shuffle=False).next() for _ in range(1)])"
   ]
  },
  {
   "cell_type": "code",
   "execution_count": 16,
   "id": "a7348999",
   "metadata": {},
   "outputs": [],
   "source": [
    "augmented_metal_data3 = np.concatenate([datagen3.flow(metal_images,batch_size=1000, shuffle=False).next() for _ in range(1)])"
   ]
  },
  {
   "cell_type": "code",
   "execution_count": null,
   "id": "6c171cbb",
   "metadata": {},
   "outputs": [],
   "source": []
  },
  {
   "cell_type": "code",
   "execution_count": null,
   "id": "e52336bc",
   "metadata": {},
   "outputs": [],
   "source": []
  },
  {
   "cell_type": "code",
   "execution_count": null,
   "id": "2cbe30c5",
   "metadata": {},
   "outputs": [],
   "source": []
  },
  {
   "cell_type": "code",
   "execution_count": null,
   "id": "4d8019b3",
   "metadata": {},
   "outputs": [],
   "source": []
  },
  {
   "cell_type": "code",
   "execution_count": 17,
   "id": "47456235",
   "metadata": {},
   "outputs": [
    {
     "data": {
      "text/plain": [
       "(5307, 224, 224, 3)"
      ]
     },
     "execution_count": 17,
     "metadata": {},
     "output_type": "execute_result"
    }
   ],
   "source": [
    "plastic_images = np.array(plastic_data['Image_Array'].tolist())\n",
    "plastic_images.shape"
   ]
  },
  {
   "cell_type": "code",
   "execution_count": 18,
   "id": "e78f6b19",
   "metadata": {},
   "outputs": [],
   "source": [
    "augmented_plastic_data1 = np.concatenate([datagen_metal.flow(plastic_images,batch_size=500, shuffle=False).next() for _ in range(1)])"
   ]
  },
  {
   "cell_type": "code",
   "execution_count": 19,
   "id": "85041a25",
   "metadata": {},
   "outputs": [],
   "source": [
    "augmented_plastic_data2 = np.concatenate([datagen2.flow(plastic_images,batch_size=500, shuffle=False).next() for _ in range(1)])"
   ]
  },
  {
   "cell_type": "code",
   "execution_count": 20,
   "id": "5ab4c20c",
   "metadata": {},
   "outputs": [],
   "source": [
    "augmented_plastic_data3 = np.concatenate([datagen3.flow(plastic_images,batch_size=500, shuffle=False).next() for _ in range(1)])"
   ]
  },
  {
   "cell_type": "code",
   "execution_count": null,
   "id": "6e556f69",
   "metadata": {},
   "outputs": [],
   "source": []
  },
  {
   "cell_type": "code",
   "execution_count": null,
   "id": "a1fb27b9",
   "metadata": {},
   "outputs": [],
   "source": []
  },
  {
   "cell_type": "code",
   "execution_count": 21,
   "id": "beb20e6e",
   "metadata": {},
   "outputs": [],
   "source": [
    "combined_plastic_images = np.concatenate([plastic_images, augmented_plastic_data1, augmented_plastic_data2, augmented_plastic_data3], axis=0)"
   ]
  },
  {
   "cell_type": "code",
   "execution_count": 22,
   "id": "c8af3114",
   "metadata": {},
   "outputs": [],
   "source": [
    "combined_metal_images = np.concatenate([metal_images, augmented_metal_data1, augmented_metal_data2, augmented_metal_data3], axis=0)"
   ]
  },
  {
   "cell_type": "code",
   "execution_count": null,
   "id": "b8ada149",
   "metadata": {},
   "outputs": [],
   "source": []
  },
  {
   "cell_type": "code",
   "execution_count": 23,
   "id": "c1f459fa",
   "metadata": {},
   "outputs": [],
   "source": [
    "plastic_labels = np.zeros((combined_plastic_images.shape[0], 1))  # Assuming 0 is the label for plastic\n",
    "metal_labels = np.ones((combined_metal_images.shape[0], 1))    #assuming 1 is the label for metal "
   ]
  },
  {
   "cell_type": "code",
   "execution_count": 24,
   "id": "c0d1113c",
   "metadata": {},
   "outputs": [
    {
     "data": {
      "text/plain": [
       "(6906, 1)"
      ]
     },
     "execution_count": 24,
     "metadata": {},
     "output_type": "execute_result"
    }
   ],
   "source": [
    "metal_labels.shape"
   ]
  },
  {
   "cell_type": "code",
   "execution_count": 25,
   "id": "1cce9bdf",
   "metadata": {},
   "outputs": [],
   "source": [
    "combined_data = np.concatenate((combined_plastic_images, combined_metal_images), axis=0)\n",
    "combined_labels = np.concatenate((plastic_labels, metal_labels), axis=0)\n"
   ]
  },
  {
   "cell_type": "code",
   "execution_count": 26,
   "id": "136d6507",
   "metadata": {},
   "outputs": [],
   "source": [
    "shuffle_indices = np.random.permutation(combined_data.shape[0])\n",
    "combined_data = combined_data[shuffle_indices]\n",
    "combined_labels = combined_labels[shuffle_indices]"
   ]
  },
  {
   "cell_type": "code",
   "execution_count": 27,
   "id": "05c51524",
   "metadata": {},
   "outputs": [],
   "source": [
    "target=combined_labels"
   ]
  },
  {
   "cell_type": "code",
   "execution_count": 28,
   "id": "396b7afa",
   "metadata": {},
   "outputs": [],
   "source": [
    "final_data=combined_data/255.0"
   ]
  },
  {
   "cell_type": "code",
   "execution_count": null,
   "id": "d8e8ac8f",
   "metadata": {},
   "outputs": [],
   "source": []
  },
  {
   "cell_type": "code",
   "execution_count": 29,
   "id": "f52ff177",
   "metadata": {},
   "outputs": [
    {
     "data": {
      "text/plain": [
       "(13713, 224, 224, 3)"
      ]
     },
     "execution_count": 29,
     "metadata": {},
     "output_type": "execute_result"
    }
   ],
   "source": [
    "final_data.shape"
   ]
  },
  {
   "cell_type": "code",
   "execution_count": 30,
   "id": "66d0f510",
   "metadata": {},
   "outputs": [],
   "source": [
    "from sklearn.model_selection import train_test_split\n",
    "np.random.seed(42)\n",
    "\n",
    "# Split the dataset into training (90%), development (5%), and test (5%) sets\n",
    "images_train, images_temp, labels_train, labels_temp = train_test_split(final_data, target, test_size=0.1, random_state=42)\n",
    "images_dev, images_test, labels_dev, labels_test = train_test_split(images_temp, labels_temp, test_size=0.5, random_state=42)\n"
   ]
  },
  {
   "cell_type": "code",
   "execution_count": null,
   "id": "634fd0e5",
   "metadata": {},
   "outputs": [],
   "source": []
  },
  {
   "cell_type": "code",
   "execution_count": 31,
   "id": "3c64f1e3",
   "metadata": {},
   "outputs": [],
   "source": [
    "base_model = MobileNet(weights='imagenet', include_top=False, input_shape=(224, 224, 3))\n",
    "base_model.trainable = False  # Freeze the pre-trained weights\n"
   ]
  },
  {
   "cell_type": "code",
   "execution_count": 32,
   "id": "48865fb9",
   "metadata": {},
   "outputs": [],
   "source": [
    "model = models.Sequential([\n",
    "    base_model,\n",
    "    layers.GlobalAveragePooling2D(),\n",
    "    layers.Dense(128, activation='relu'),\n",
    "    layers.Dropout(0.5),\n",
    "    layers.Dense(1, activation='sigmoid')  # Assuming binary classification (plastic vs. metal)\n",
    "])\n",
    "\n",
    "# Compile the model\n",
    "model.compile(optimizer=Adam(learning_rate=0.001), loss='binary_crossentropy', metrics=['accuracy'])\n"
   ]
  },
  {
   "cell_type": "code",
   "execution_count": 33,
   "id": "70d077d4",
   "metadata": {},
   "outputs": [
    {
     "name": "stdout",
     "output_type": "stream",
     "text": [
      "Epoch 1/5\n",
      "386/386 [==============================] - 276s 697ms/step - loss: 0.2126 - accuracy: 0.9124 - val_loss: 0.1383 - val_accuracy: 0.9431\n",
      "Epoch 2/5\n",
      "386/386 [==============================] - 258s 669ms/step - loss: 0.1029 - accuracy: 0.9611 - val_loss: 0.0833 - val_accuracy: 0.9650\n",
      "Epoch 3/5\n",
      "386/386 [==============================] - 255s 662ms/step - loss: 0.0766 - accuracy: 0.9730 - val_loss: 0.0671 - val_accuracy: 0.9738\n",
      "Epoch 4/5\n",
      "386/386 [==============================] - 254s 659ms/step - loss: 0.0595 - accuracy: 0.9801 - val_loss: 0.0626 - val_accuracy: 0.9752\n",
      "Epoch 5/5\n",
      "386/386 [==============================] - 249s 646ms/step - loss: 0.0485 - accuracy: 0.9819 - val_loss: 0.0609 - val_accuracy: 0.9738\n"
     ]
    },
    {
     "data": {
      "text/plain": [
       "<keras.callbacks.History at 0x2aec19f6110>"
      ]
     },
     "execution_count": 33,
     "metadata": {},
     "output_type": "execute_result"
    }
   ],
   "source": [
    "from tensorflow.keras.preprocessing.image import ImageDataGenerator\n",
    "\n",
    "datagen = ImageDataGenerator(rescale=1./1)  # Add other preprocessing options if needed\n",
    "train_generator = datagen.flow(images_train, labels_train, batch_size=32)\n",
    "dev_generator = datagen.flow(images_dev, labels_dev, batch_size=32)\n",
    "\n",
    "model.fit(train_generator, epochs=5, validation_data=dev_generator)\n"
   ]
  },
  {
   "cell_type": "code",
   "execution_count": 55,
   "id": "d0fb34b1",
   "metadata": {},
   "outputs": [
    {
     "name": "stdout",
     "output_type": "stream",
     "text": [
      "22/22 [==============================] - 15s 622ms/step - loss: 0.0386 - accuracy: 0.9913\n",
      "Test Accuracy: 99.13%\n"
     ]
    }
   ],
   "source": [
    "# Assuming you have a trained model named 'model'\n",
    "\n",
    "# Evaluate the model on the test set\n",
    "test_loss, test_accuracy = model.evaluate(images_test, labels_test)\n",
    "\n",
    "# Print the test accuracy\n",
    "print(f'Test Accuracy: {test_accuracy * 100:.2f}%')\n"
   ]
  },
  {
   "cell_type": "code",
   "execution_count": 57,
   "id": "1731c285",
   "metadata": {},
   "outputs": [
    {
     "name": "stdout",
     "output_type": "stream",
     "text": [
      "1/1 [==============================] - 0s 118ms/step\n",
      "[[0.9999997]]\n",
      "Inference Time: 0.2165 seconds\n"
     ]
    }
   ],
   "source": [
    "\n",
    "\n",
    "# Assuming you have a trained model named 'model'\n",
    "# and a single test image named 'single_image'\n",
    "\n",
    "# Start the timer\n",
    "start_time = time.time()\n",
    "\n",
    "# Perform inference on the single image\n",
    "predicted_label = model.predict(np.expand_dims(images_test[107], axis=0))\n",
    "\n",
    "# Stop the timer\n",
    "end_time = time.time()\n",
    "\n",
    "# Calculate the inference time\n",
    "inference_time = end_time - start_time\n",
    "\n",
    "# Print the predicted label and inference time\n",
    "print(predicted_label)\n",
    "print(f'Inference Time: {inference_time:.4f} seconds')\n"
   ]
  },
  {
   "cell_type": "code",
   "execution_count": 58,
   "id": "1b351d60",
   "metadata": {},
   "outputs": [
    {
     "data": {
      "text/plain": [
       "array([1.])"
      ]
     },
     "execution_count": 58,
     "metadata": {},
     "output_type": "execute_result"
    }
   ],
   "source": [
    "labels_test[107]"
   ]
  },
  {
   "cell_type": "code",
   "execution_count": null,
   "id": "c691330a",
   "metadata": {},
   "outputs": [],
   "source": [
    "# Assuming 'model' is your trained model\n",
    "model.save(\"C:\\\\Users\\\\youss\\\\OneDrive - aucegypt.edu\\\\Desktop\\\\garbage classifier\\\\saved_model\")\n"
   ]
  }
 ],
 "metadata": {
  "kernelspec": {
   "display_name": "Python 3 (ipykernel)",
   "language": "python",
   "name": "python3"
  },
  "language_info": {
   "codemirror_mode": {
    "name": "ipython",
    "version": 3
   },
   "file_extension": ".py",
   "mimetype": "text/x-python",
   "name": "python",
   "nbconvert_exporter": "python",
   "pygments_lexer": "ipython3",
   "version": "3.11.3"
  }
 },
 "nbformat": 4,
 "nbformat_minor": 5
}
